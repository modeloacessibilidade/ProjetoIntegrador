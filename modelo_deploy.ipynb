{
  "nbformat": 4,
  "nbformat_minor": 0,
  "metadata": {
    "colab": {
      "name": "modelo_deploy.ipynb",
      "private_outputs": true,
      "provenance": [],
      "include_colab_link": true
    },
    "kernelspec": {
      "name": "python3",
      "display_name": "Python 3"
    }
  },
  "cells": [
    {
      "cell_type": "markdown",
      "metadata": {
        "id": "view-in-github",
        "colab_type": "text"
      },
      "source": [
        "<a href=\"https://colab.research.google.com/github/modeloacessibilidade/ProjetoIntegrador/blob/master/modelo_deploy.ipynb\" target=\"_parent\"><img src=\"https://colab.research.google.com/assets/colab-badge.svg\" alt=\"Open In Colab\"/></a>"
      ]
    },
    {
      "cell_type": "code",
      "metadata": {
        "id": "gKntA0Btimrh"
      },
      "source": [
        "\n",
        "!pip install streamlit -q\n"
      ],
      "execution_count": null,
      "outputs": []
    },
    {
      "cell_type": "code",
      "metadata": {
        "id": "fu3lLu0PkKQ4"
      },
      "source": [
        "!pip install pyngrok\n"
      ],
      "execution_count": null,
      "outputs": []
    },
    {
      "cell_type": "code",
      "metadata": {
        "id": "D_lOFNXYLxgZ"
      },
      "source": [
        "\r\n",
        "\r\n",
        "!pip install pycaret"
      ],
      "execution_count": null,
      "outputs": []
    },
    {
      "cell_type": "code",
      "metadata": {
        "id": "WC6VE1QSlzLk"
      },
      "source": [
        "!wget https://bin.equinox.io/c/4VmDzA7iaHb/ngrok-stable-linux-amd64.zip\n",
        "!unzip -qq ngrok-stable-linux-amd64.zip"
      ],
      "execution_count": null,
      "outputs": []
    },
    {
      "cell_type": "code",
      "metadata": {
        "id": "qwrhVLIhrM-6"
      },
      "source": [
        "#Importando as bibliotecas necessárias \r\n",
        "from pycaret.classification import load_model, predict_model\r\n",
        "import streamlit as st\r\n",
        "import pandas as pd\r\n",
        "import numpy as np\r\n",
        "import joblib\r\n",
        "\r\n"
      ],
      "execution_count": null,
      "outputs": []
    },
    {
      "cell_type": "code",
      "metadata": {
        "id": "x8KEbjh2ax5d"
      },
      "source": [
        "\r\n",
        "%%writefile app.py\r\n",
        "import streamlit as st\r\n",
        "from PIL import Image\r\n",
        "PAGE_CONFIG = {\"page_title\":\"StColab.io\",\"page_icon\":\":smiley:\",\"layout\":\"centered\"}\r\n",
        "st.beta_set_page_config(**PAGE_CONFIG)\r\n",
        "\r\n",
        "\r\n",
        "def predict_quality(model, df):\r\n",
        "    predictions_data = predict_model(estimator = model, data = df)\r\n",
        "    return predictions_data['Label'][0]\r\n",
        "\r\n",
        "model = load_model('Predição da nota estabelecimento')\r\n",
        "\r\n",
        "# Add titulo, imagem e uma pequena descrição do nosso projeto\r\n",
        "st.title('Predizendo a avaliação do estabelecimento')\r\n",
        "st.write('Este aplicativo busca ajudar os estabelecimentos a identificar pontos de melhorias para atrairem mais clientes, através de uma boa avaliação.')\r\n",
        "image = \"https://agoraentert.com.br/wp-content/uploads/2016/11/imagem.png\"\r\n",
        "st.image(image, use_column_width=True)\r\n",
        "st.write('Por favor preencha as informações solicitadas ao lado, de acordo a qual o estabelecimento possui e clique no botão abaixo!')\r\n",
        "\r\n",
        "Tipo_Restaurante = st.sidebar.write(\"Tipo de Restaurante\", 'casual', 'dressy', 'formal')\r\n",
        "NoiseLevel =      st.sidebar.write(\"O Ambiente é\", 'average', 'quiet','loud', 'very_loud')\r\n",
        "bp_street =       st.sidebar.write(\"Estacionamento na rua\", 'sim', 'não')\r\n",
        "hasTV =          st.sidebar.write(\"Possui TV no local\", 'sim', 'não')\r\n",
        "Wifi =           st.sidebar.write(\"Possui Wifi no local\", 'sim', 'não')\r\n",
        "\r\n",
        "features = {'RestaurantsAttire': Tipo_Restaurante, 'NoiseLevel': NoiseLevel,\r\n",
        "            'bp_street': bp_street, 'hasTV': hasTV, 'Wifi': Wifi\r\n",
        "            }\r\n",
        " \r\n",
        "\r\n",
        "features_df  = pd.DataFrame([features])\r\n",
        "\r\n",
        "st.table(features_df)  \r\n",
        "\r\n",
        "if st.button('Predict'):\r\n",
        "    \r\n",
        "    prediction = predict_quality(model, features_df)\r\n",
        "    \r\n",
        "    st.write(' Com base nas informações sua avalição é '+ str(prediction))\r\n",
        "\r\n",
        "if __name__ == '__predict_quality__':\r\n",
        "\tpredict_quality()\r\n"
      ],
      "execution_count": null,
      "outputs": []
    },
    {
      "cell_type": "code",
      "metadata": {
        "id": "9ii-p94vePTv"
      },
      "source": [
        "# ngrok auth config\n",
        "!ngrok authtoken 1nDVHNO3h6pI4HZkXtox2OFoQ1Z_355ocSrxb4w6CfN7f2Dqx"
      ],
      "execution_count": null,
      "outputs": []
    },
    {
      "cell_type": "code",
      "metadata": {
        "id": "9-9mIdSg8xZu"
      },
      "source": [
        "from pyngrok import ngrok\r\n"
      ],
      "execution_count": null,
      "outputs": []
    },
    {
      "cell_type": "code",
      "metadata": {
        "id": "FNEXiox_fo89"
      },
      "source": [
        "!streamlit run app.py &>/dev/null&"
      ],
      "execution_count": null,
      "outputs": []
    },
    {
      "cell_type": "code",
      "metadata": {
        "id": "cuXvp566gGMP"
      },
      "source": [
        "# Verificando se está  rodando\r\n",
        "!pgrep streamlit"
      ],
      "execution_count": null,
      "outputs": []
    },
    {
      "cell_type": "code",
      "metadata": {
        "id": "n8IbjC2crZFZ"
      },
      "source": [
        "#Setup  streamlit na porta 8501\r\n",
        "public_url = ngrok.connect(port='8501')\r\n"
      ],
      "execution_count": null,
      "outputs": []
    },
    {
      "cell_type": "code",
      "metadata": {
        "id": "JHrQFxVllLZ4"
      },
      "source": [
        "public_url"
      ],
      "execution_count": null,
      "outputs": []
    },
    {
      "cell_type": "code",
      "metadata": {
        "id": "KT6aeV2EmLnp"
      },
      "source": [
        "get_ipython().system_raw('./ngrok http 8501 &')\n",
        "! curl -s http://localhost:4040/api/tunnels | python3 -c \\\n",
        "    \"import sys, json; print(json.load(sys.stdin)['tunnels'][0]['public_url'])\""
      ],
      "execution_count": null,
      "outputs": []
    },
    {
      "cell_type": "code",
      "metadata": {
        "id": "iBEpYI4JmQIe"
      },
      "source": [
        "\n",
        "!streamlit hello"
      ],
      "execution_count": null,
      "outputs": []
    },
    {
      "cell_type": "code",
      "metadata": {
        "id": "owUvtoN5lNe0"
      },
      "source": [
        "!pgrep streamlit"
      ],
      "execution_count": null,
      "outputs": []
    },
    {
      "cell_type": "code",
      "metadata": {
        "id": "GwyjPzcrltRA"
      },
      "source": [
        ""
      ],
      "execution_count": null,
      "outputs": []
    }
  ]
}